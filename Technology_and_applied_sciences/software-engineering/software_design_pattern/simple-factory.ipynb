{
 "cells": [
  {
   "cell_type": "markdown",
   "metadata": {},
   "source": [
    "![T-shirt DIY](https://i.imgur.com/r7fc7xB.jpg)"
   ]
  },
  {
   "cell_type": "markdown",
   "metadata": {},
   "source": [
    "# Simple Factory"
   ]
  },
  {
   "cell_type": "markdown",
   "metadata": {},
   "source": [
    "Real world example\n",
    "\n",
    "> Consider, you are building a house and you need doors. It would be a mess if every time you need a door, you put on your carpenter clothes and start making a door in your house. Instead you get it made from a factory.\n",
    "\n",
    "In plain words\n",
    "\n",
    "> Simple factory simply **generates an instance for client without exposing any instantiation logic** to the client\n",
    "\n",
    "Wikipedia says\n",
    "\n",
    "> In object-oriented programming (OOP), a factory is an object for creating other objects – formally **a factory is a function or method** that returns **objects of a varying prototype** or **class from some method call**, which is assumed to be \"new\"."
   ]
  },
  {
   "cell_type": "markdown",
   "metadata": {},
   "source": [
    "**When to Use?**\n",
    "\n",
    "When creating an object is not just a few assignments and involves some logic, it makes sense to put it in a dedicated factory instead of **repeating** the same code everywhere."
   ]
  },
  {
   "cell_type": "markdown",
   "metadata": {},
   "source": [
    "## 0. Programmatic Example "
   ]
  },
  {
   "cell_type": "markdown",
   "metadata": {},
   "source": [
    "First of all we have a door interface and the implementation"
   ]
  },
  {
   "cell_type": "code",
   "execution_count": null,
   "metadata": {
    "collapsed": true
   },
   "outputs": [],
   "source": [
    "class Door:\n",
    "\n",
    "    def get_width(self):\n",
    "        raise NotImplementedError\n",
    "\n",
    "    def get_height(self):\n",
    "        raise NotImplementedError\n",
    "        \n",
    "class WoodenDoor(Door):\n",
    "\n",
    "    def __init__(self, width, height):\n",
    "        self.width = width\n",
    "        self.height = height\n",
    "\n",
    "    def get_width(self):\n",
    "        return self.width\n",
    "\n",
    "    def get_height(self):\n",
    "        return self.height"
   ]
  },
  {
   "cell_type": "markdown",
   "metadata": {},
   "source": [
    "Then we have our door factory that makes the door and returns it "
   ]
  },
  {
   "cell_type": "code",
   "execution_count": 1,
   "metadata": {
    "collapsed": true
   },
   "outputs": [],
   "source": [
    "class DoorFactory:\n",
    "    \n",
    "    @staticmethod\n",
    "    def make_door(width, height):\n",
    "        return WoodenDoor(width, height)"
   ]
  },
  {
   "cell_type": "markdown",
   "metadata": {},
   "source": [
    "And then it can be used as "
   ]
  },
  {
   "cell_type": "code",
   "execution_count": null,
   "metadata": {
    "collapsed": true
   },
   "outputs": [],
   "source": [
    "if __name__ == '__main__':\n",
    "\n",
    "    door = DoorFactory().make_door(100, 200)\n",
    "\n",
    "    assert door.get_width() == 100\n",
    "    assert door.get_height() == 200"
   ]
  }
 ],
 "metadata": {
  "kernelspec": {
   "display_name": "Python 3",
   "language": "python",
   "name": "python3"
  },
  "language_info": {
   "codemirror_mode": {
    "name": "ipython",
    "version": 3
   },
   "file_extension": ".py",
   "mimetype": "text/x-python",
   "name": "python",
   "nbconvert_exporter": "python",
   "pygments_lexer": "ipython3",
   "version": "3.6.0"
  }
 },
 "nbformat": 4,
 "nbformat_minor": 2
}
