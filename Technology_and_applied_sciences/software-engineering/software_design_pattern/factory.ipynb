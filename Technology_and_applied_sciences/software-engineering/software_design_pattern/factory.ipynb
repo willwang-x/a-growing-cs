{
 "cells": [
  {
   "cell_type": "markdown",
   "metadata": {},
   "source": [
    "# Factory"
   ]
  },
  {
   "cell_type": "markdown",
   "metadata": {},
   "source": [
    "Real world example\n",
    "\n",
    "> Consider the case of a hiring manager. It is impossible for one person to interview for each of the positions. Based on the job opening, she has to **decide and delegate the interview steps to different people**.\n",
    "\n",
    "In plain words\n",
    "\n",
    "> It provides a way to **delegate** the instantiation logic to **child** classes.\n",
    "\n",
    "Wikipedia says\n",
    "\n",
    "> In class-based programming, the factory method pattern is a creational pattern that uses factory methods to deal with the problem of creating objects without having to specify the exact class of the object that will be created. This is done by creating objects by calling a factory method — \n",
    "- either specified in an interface and implemented by child classes, \n",
    "- or implemented in a base class and optionally overridden by derived classes — rather than by calling a constructor."
   ]
  },
  {
   "cell_type": "markdown",
   "metadata": {},
   "source": [
    "## 0. Programmatic Example"
   ]
  },
  {
   "cell_type": "markdown",
   "metadata": {},
   "source": [
    "Taking our hiring manager example above. First of all we have an interviewer interface and some implementations for it"
   ]
  },
  {
   "cell_type": "code",
   "execution_count": 1,
   "metadata": {
    "collapsed": true
   },
   "outputs": [],
   "source": [
    "class Interviewer:\n",
    "\n",
    "    @staticmethod\n",
    "    def ask_questions():\n",
    "        raise NotImplementedError\n",
    "\n",
    "\n",
    "class Developer(Interviewer):\n",
    "\n",
    "    def ask_questions(self):\n",
    "        print('Asking about design patterns!')\n",
    "\n",
    "\n",
    "class CommunityExecutive(Interviewer):\n",
    "\n",
    "    def ask_questions(self):\n",
    "        print('Asking about community building')"
   ]
  },
  {
   "cell_type": "markdown",
   "metadata": {},
   "source": [
    "Now let us create our `HiringManager`"
   ]
  },
  {
   "cell_type": "code",
   "execution_count": null,
   "metadata": {
    "collapsed": true
   },
   "outputs": [],
   "source": [
    "class HiringManager:\n",
    "\n",
    "    def make_interviewer(self):\n",
    "        raise NotImplementedError\n",
    "\n",
    "    def take_interview(self):\n",
    "        interviewer = self.make_interviewer()\n",
    "        interviewer.ask_questions()"
   ]
  },
  {
   "cell_type": "markdown",
   "metadata": {},
   "source": [
    "Now any child can extend it and provide the required interviewer"
   ]
  },
  {
   "cell_type": "code",
   "execution_count": null,
   "metadata": {
    "collapsed": true
   },
   "outputs": [],
   "source": [
    "class DevelopmentManager(HiringManager):\n",
    "\n",
    "    def make_interviewer(self):\n",
    "        return Developer()\n",
    "\n",
    "\n",
    "class MarketingManager(HiringManager):\n",
    "\n",
    "    def make_interviewer(self):\n",
    "        return CommunityExecutive()"
   ]
  },
  {
   "cell_type": "markdown",
   "metadata": {},
   "source": [
    "and then it can be used as"
   ]
  },
  {
   "cell_type": "code",
   "execution_count": null,
   "metadata": {
    "collapsed": true
   },
   "outputs": [],
   "source": [
    "if __name__ == '__main__':\n",
    "\n",
    "    dev_manager = DevelopmentManager()\n",
    "    dev_manager.take_interview()\n",
    "    # Output: Asking about design patterns!\n",
    "\n",
    "    mkt_manager = MarketingManager()\n",
    "    mkt_manager.take_interview()\n",
    "    # Output: Asking about community building"
   ]
  }
 ],
 "metadata": {
  "kernelspec": {
   "display_name": "Python 3",
   "language": "python",
   "name": "python3"
  },
  "language_info": {
   "codemirror_mode": {
    "name": "ipython",
    "version": 3
   },
   "file_extension": ".py",
   "mimetype": "text/x-python",
   "name": "python",
   "nbconvert_exporter": "python",
   "pygments_lexer": "ipython3",
   "version": "3.6.0"
  }
 },
 "nbformat": 4,
 "nbformat_minor": 2
}
