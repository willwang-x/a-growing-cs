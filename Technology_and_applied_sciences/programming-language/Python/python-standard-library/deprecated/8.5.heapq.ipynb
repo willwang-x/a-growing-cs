{
 "cells": [
  {
   "cell_type": "markdown",
   "metadata": {},
   "source": [
    "# [heapq — Heap queue algorithm](https://docs.python.org/3/library/heapq.html)"
   ]
  },
  {
   "cell_type": "code",
   "execution_count": 53,
   "metadata": {},
   "outputs": [],
   "source": [
    "import heapq"
   ]
  },
  {
   "cell_type": "markdown",
   "metadata": {},
   "source": [
    "1. heapq.heapify(x) ✅ O(n)\n",
    "1. heapq.heappush(heap, item) ✅\n",
    "1. heapq.heappop(heap) ✅\n",
    "1. heapq.heapreplace(heap, item) ✅\n",
    "1. heapq.heappushpop(heap, item) ✅\n",
    "1. heapq.merge(*iterables, key=None, reverse=False) ✅\n",
    "1. heapq.nsmallest(n, iterable, key=None) ✅\n",
    "1. heapq.nlargest(n, iterable, key=None) ✅"
   ]
  },
  {
   "cell_type": "markdown",
   "metadata": {},
   "source": [
    "## 1. heapq.heapify( x ) "
   ]
  },
  {
   "cell_type": "code",
   "execution_count": 55,
   "metadata": {},
   "outputs": [],
   "source": [
    "heap = [1, 3, 5, 7, 9, 2, 4, 6, 8, 0]"
   ]
  },
  {
   "cell_type": "code",
   "execution_count": 56,
   "metadata": {},
   "outputs": [
    {
     "data": {
      "text/plain": [
       "[0, 1, 2, 6, 3, 5, 4, 7, 8, 9]"
      ]
     },
     "execution_count": 56,
     "metadata": {},
     "output_type": "execute_result"
    }
   ],
   "source": [
    "# list into a heap, in-place, in linear time\n",
    "heapq.heapify(heap)\n",
    "heap"
   ]
  },
  {
   "cell_type": "markdown",
   "metadata": {},
   "source": [
    "## 2. heapq.heappush( heap, item )"
   ]
  },
  {
   "cell_type": "code",
   "execution_count": 9,
   "metadata": {},
   "outputs": [
    {
     "data": {
      "text/plain": [
       "[0, 1, 2, 6, 3, 5, 4, 7, 8, 9, 11]"
      ]
     },
     "execution_count": 9,
     "metadata": {},
     "output_type": "execute_result"
    }
   ],
   "source": [
    "heapq.heappush(heap, 11)\n",
    "heap"
   ]
  },
  {
   "cell_type": "markdown",
   "metadata": {},
   "source": [
    "## 3. heapq.heappop( heap )"
   ]
  },
  {
   "cell_type": "code",
   "execution_count": 11,
   "metadata": {},
   "outputs": [
    {
     "data": {
      "text/plain": [
       "[1, 3, 2, 6, 9, 5, 4, 7, 8, 11]"
      ]
     },
     "execution_count": 11,
     "metadata": {},
     "output_type": "execute_result"
    }
   ],
   "source": [
    "# To access the smallest item without popping it, use heap[0].\n",
    "heapq.heappop(heap)\n",
    "heap"
   ]
  },
  {
   "cell_type": "markdown",
   "metadata": {},
   "source": [
    "## 4. heapq.heapreplace(heap, item) "
   ]
  },
  {
   "cell_type": "code",
   "execution_count": 12,
   "metadata": {
    "scrolled": false
   },
   "outputs": [
    {
     "data": {
      "text/plain": [
       "[2, 3, 4, 6, 9, 5, 12, 7, 8, 11]"
      ]
     },
     "execution_count": 12,
     "metadata": {},
     "output_type": "execute_result"
    }
   ],
   "source": [
    "heapq.heapreplace(heap, 12)\n",
    "heap"
   ]
  },
  {
   "cell_type": "markdown",
   "metadata": {},
   "source": [
    "This one step operation is **more efficient** than a `heappop()` followed by `heappush()` and can be more appropriate when using a **fixed-size heap**. The pop/push combination always returns an element from the heap and replaces it with item."
   ]
  },
  {
   "cell_type": "markdown",
   "metadata": {},
   "source": [
    "The value returned may be larger than the item added. If that isn’t desired, consider using `heappushpop()` instead. Its push/pop combination returns the smaller of the two values, leaving the larger value on the heap."
   ]
  },
  {
   "cell_type": "markdown",
   "metadata": {},
   "source": [
    "## 5. heapq.heappushpop(heap, item) "
   ]
  },
  {
   "cell_type": "code",
   "execution_count": 13,
   "metadata": {},
   "outputs": [
    {
     "data": {
      "text/plain": [
       "[2, 3, 4, 6, 9, 5, 12, 7, 8, 11]"
      ]
     },
     "execution_count": 13,
     "metadata": {},
     "output_type": "execute_result"
    }
   ],
   "source": [
    "#  1 < 2, then return 1\n",
    "heapq.heappushpop(heap, 1)\n",
    "heap"
   ]
  },
  {
   "cell_type": "code",
   "execution_count": 34,
   "metadata": {},
   "outputs": [],
   "source": [
    "# e.g. merge timestamped entries from multiple log files\n",
    "\n",
    "a = [1,4,6,9]\n",
    "b = [2,3,10,20]"
   ]
  },
  {
   "cell_type": "markdown",
   "metadata": {},
   "source": [
    "## 6. heapq.merge( *iterables,  key=None,  reverse=False ) "
   ]
  },
  {
   "cell_type": "code",
   "execution_count": 35,
   "metadata": {},
   "outputs": [
    {
     "name": "stdout",
     "output_type": "stream",
     "text": [
      "<generator object merge at 0x110e47fc0>\n",
      "[1, 2, 3, 4, 6, 9, 10, 20]\n"
     ]
    }
   ],
   "source": [
    "single_sorted = heapq.merge(a, b, reverse = False)\n",
    "print(single_sorted)\n",
    "single = list(single_sorted)\n",
    "print(single)"
   ]
  },
  {
   "cell_type": "code",
   "execution_count": 36,
   "metadata": {},
   "outputs": [
    {
     "name": "stdout",
     "output_type": "stream",
     "text": [
      "<generator object merge at 0x110e15b48>\n",
      "[2, 3, 10, 20, 1, 4, 6, 9]\n"
     ]
    }
   ],
   "source": [
    "# It is like k-way merge algorithm \n",
    "# when reversed is set to be True\n",
    "# if a[0] < b[0], pop b[0]\n",
    "\n",
    "single_sorted = heapq.merge(a, b, reverse = True)\n",
    "print(single_sorted)\n",
    "single = list(single_sorted)\n",
    "print(single)"
   ]
  },
  {
   "cell_type": "code",
   "execution_count": 37,
   "metadata": {},
   "outputs": [],
   "source": [
    "def merge_sorted_seq(seq1, seq2):\n",
    "    ''' merge two sorted sequences with little ovehead. the result\n",
    "        will be sorted, which is different of doing just +'''\n",
    "    result = []\n",
    "    for c in heapq.merge(seq1, seq2):\n",
    "        result.append(c)\n",
    "    return result"
   ]
  },
  {
   "cell_type": "code",
   "execution_count": 33,
   "metadata": {},
   "outputs": [
    {
     "data": {
      "text/plain": [
       "[1, 2, 4, 6, 8, 9, 10, 20]"
      ]
     },
     "execution_count": 33,
     "metadata": {},
     "output_type": "execute_result"
    }
   ],
   "source": [
    "merge_sorted_seq(a, b)"
   ]
  },
  {
   "cell_type": "code",
   "execution_count": 42,
   "metadata": {},
   "outputs": [
    {
     "name": "stdout",
     "output_type": "stream",
     "text": [
      "[0, 1, 2, 3, 4, 5, 6, 9, 10]\n"
     ]
    }
   ],
   "source": [
    "iterators = [[2,4,6],[0,3,5],[1,9,10]] # sorted each\n",
    "merged_query = heapq.merge(*iterators)\n",
    "print(list(merged_query))"
   ]
  },
  {
   "cell_type": "code",
   "execution_count": 47,
   "metadata": {},
   "outputs": [
    {
     "name": "stdout",
     "output_type": "stream",
     "text": [
      "[(2, 3), (5, 4), (6, 7), (0, 8), (3, 9), (5, 12)]\n"
     ]
    }
   ],
   "source": [
    "iterators = [[(2,3),(5,4),(6,7)],[(0,8),(3,9),(5,12)]] # sorted each\n",
    "merged_query = heapq.merge(*iterators, key = lambda x : x[1])\n",
    "\n",
    "merged = list(merged_query)\n",
    "print(merged)"
   ]
  },
  {
   "cell_type": "markdown",
   "metadata": {},
   "source": [
    "##  7. heapq.nsmallest( n, iterable, key=None ) "
   ]
  },
  {
   "cell_type": "code",
   "execution_count": 45,
   "metadata": {},
   "outputs": [
    {
     "data": {
      "text/plain": [
       "[2, 3, 4, 6, 9, 5, 12, 7, 8, 11]"
      ]
     },
     "execution_count": 45,
     "metadata": {},
     "output_type": "execute_result"
    }
   ],
   "source": [
    "heap"
   ]
  },
  {
   "cell_type": "code",
   "execution_count": 50,
   "metadata": {},
   "outputs": [
    {
     "data": {
      "text/plain": [
       "[2, 3]"
      ]
     },
     "execution_count": 50,
     "metadata": {},
     "output_type": "execute_result"
    }
   ],
   "source": [
    "heapq.nsmallest(2, heap)"
   ]
  },
  {
   "cell_type": "markdown",
   "metadata": {},
   "source": [
    "##  8. heapq.nlargest( n, iterable, key=None ) "
   ]
  },
  {
   "cell_type": "code",
   "execution_count": 46,
   "metadata": {},
   "outputs": [
    {
     "data": {
      "text/plain": [
       "[12, 11]"
      ]
     },
     "execution_count": 46,
     "metadata": {},
     "output_type": "execute_result"
    }
   ],
   "source": [
    "heapq.nlargest(2, heap)"
   ]
  },
  {
   "cell_type": "code",
   "execution_count": 51,
   "metadata": {},
   "outputs": [
    {
     "data": {
      "text/plain": [
       "[(3, 500), (2, 400)]"
      ]
     },
     "execution_count": 51,
     "metadata": {},
     "output_type": "execute_result"
    }
   ],
   "source": [
    "# seq input doesn't have to be heapified\n",
    "seq = [100, 2, 400, 500, 400]\n",
    "heapq.nlargest(2, enumerate(seq), key=lambda x: x[1])"
   ]
  },
  {
   "cell_type": "code",
   "execution_count": 52,
   "metadata": {},
   "outputs": [
    {
     "data": {
      "text/plain": [
       "[(5, 12), (3, 9)]"
      ]
     },
     "execution_count": 52,
     "metadata": {},
     "output_type": "execute_result"
    }
   ],
   "source": [
    "heapq.nlargest(2, merged, key=lambda x: x[1])"
   ]
  }
 ],
 "metadata": {
  "kernelspec": {
   "display_name": "Python 3",
   "language": "python",
   "name": "python3"
  },
  "language_info": {
   "codemirror_mode": {
    "name": "ipython",
    "version": 3
   },
   "file_extension": ".py",
   "mimetype": "text/x-python",
   "name": "python",
   "nbconvert_exporter": "python",
   "pygments_lexer": "ipython3",
   "version": "3.6.5"
  }
 },
 "nbformat": 4,
 "nbformat_minor": 2
}
