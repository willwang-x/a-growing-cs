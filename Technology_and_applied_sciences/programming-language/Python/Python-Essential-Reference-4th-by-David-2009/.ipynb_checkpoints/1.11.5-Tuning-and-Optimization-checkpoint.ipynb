{
 "cells": [
  {
   "cell_type": "markdown",
   "metadata": {
    "collapsed": true
   },
   "source": [
    "# 1.11.5 Tuning and Optimization in *Testing, Debugging, Profiling, and Tuning*"
   ]
  },
  {
   "cell_type": "code",
   "execution_count": 32,
   "metadata": {},
   "outputs": [],
   "source": [
    "%reload_ext line_profiler  # used to profile Python Code "
   ]
  },
  {
   "cell_type": "markdown",
   "metadata": {},
   "source": [
    "## Tuning Strategies"
   ]
  },
  {
   "cell_type": "markdown",
   "metadata": {},
   "source": [
    "### Understand Your Program (1. Uderstand Algorithms 2. Use the Built-In Types)"
   ]
  },
  {
   "cell_type": "code",
   "execution_count": 5,
   "metadata": {},
   "outputs": [
    {
     "name": "stdout",
     "output_type": "stream",
     "text": [
      "deque([38, 37])\n",
      "[38, 37]\n"
     ]
    }
   ],
   "source": [
    "import collections\n",
    "s1 = collections.deque()\n",
    "s1.appendleft(37)\n",
    "s1.appendleft(38)\n",
    "print s1\n",
    "\n",
    "s2 = []\n",
    "s2.insert(0,37)\n",
    "s2.insert(0,38)\n",
    "print s2"
   ]
  },
  {
   "cell_type": "code",
   "execution_count": 3,
   "metadata": {},
   "outputs": [
    {
     "data": {
      "text/plain": [
       "376.56451082229614"
      ]
     },
     "execution_count": 3,
     "metadata": {},
     "output_type": "execute_result"
    }
   ],
   "source": [
    "# Before \n",
    "timeit('s.insert(0,37)','s = []', number=1000000)"
   ]
  },
  {
   "cell_type": "code",
   "execution_count": 2,
   "metadata": {},
   "outputs": [
    {
     "data": {
      "text/plain": [
       "0.16429996490478516"
      ]
     },
     "execution_count": 2,
     "metadata": {},
     "output_type": "execute_result"
    }
   ],
   "source": [
    "# After \n",
    "from timeit import timeit\n",
    "timeit('s.appendleft(37)', 'import collections; s = collections.deque()', number=1000000)"
   ]
  },
  {
   "cell_type": "markdown",
   "metadata": {},
   "source": [
    "### Don't Add Layers"
   ]
  },
  {
   "cell_type": "code",
   "execution_count": 57,
   "metadata": {
    "scrolled": false
   },
   "outputs": [
    {
     "name": "stdout",
     "output_type": "stream",
     "text": [
      "The slowest run took 6.72 times longer than the fastest. This could mean that an intermediate result is being cached.\n",
      "1000000 loops, best of 3: 284 ns per loop\n"
     ]
    }
   ],
   "source": [
    "%timeit s = dict(name='Good', shares=100, price=490.10)  # because it adds an extra function call"
   ]
  },
  {
   "cell_type": "code",
   "execution_count": 60,
   "metadata": {},
   "outputs": [
    {
     "name": "stdout",
     "output_type": "stream",
     "text": [
      "1000000 loops, best of 3: 139 ns per loop\n"
     ]
    }
   ],
   "source": [
    "%timeit s = {'name':'Good', 'shares':100, 'price': 490.10}"
   ]
  },
  {
   "cell_type": "markdown",
   "metadata": {},
   "source": [
    "### Know How Classes and Instance Build Upon Dictionaries"
   ]
  },
  {
   "cell_type": "code",
   "execution_count": 62,
   "metadata": {
    "collapsed": true
   },
   "outputs": [],
   "source": [
    "# User-defined classes and instances are built using dictionaries.\n",
    "# Because of this, operations that look up, set, or delete instance data are almost always going to run more\n",
    "# slowly than directly performing these operations on a dictioanry.\n",
    "\n",
    "class Stock(object):\n",
    "    def __init__(self, name, shares, price):\n",
    "        self.name = name\n",
    "        self.shares = shares\n",
    "        self.price = price"
   ]
  },
  {
   "cell_type": "code",
   "execution_count": 66,
   "metadata": {},
   "outputs": [
    {
     "name": "stdout",
     "output_type": "stream",
     "text": [
      "The slowest run took 10.44 times longer than the fastest. This could mean that an intermediate result is being cached.\n",
      "1000000 loops, best of 3: 571 ns per loop\n"
     ]
    }
   ],
   "source": [
    "%timeit s1 = Stock('Good', 100, 490.10)"
   ]
  },
  {
   "cell_type": "code",
   "execution_count": 79,
   "metadata": {
    "scrolled": true
   },
   "outputs": [
    {
     "name": "stdout",
     "output_type": "stream",
     "text": [
      "1000000 loops, best of 3: 146 ns per loop\n"
     ]
    }
   ],
   "source": [
    "%timeit s2 = {'name':'Good', 'shares':100, 'price': 490.10}"
   ]
  },
  {
   "cell_type": "code",
   "execution_count": 68,
   "metadata": {
    "scrolled": true
   },
   "outputs": [
    {
     "name": "stdout",
     "output_type": "stream",
     "text": [
      "The slowest run took 13.43 times longer than the fastest. This could mean that an intermediate result is being cached.\n",
      "1000000 loops, best of 3: 160 ns per loop\n"
     ]
    }
   ],
   "source": [
    "%timeit s1.shares*s1.price"
   ]
  },
  {
   "cell_type": "code",
   "execution_count": 81,
   "metadata": {
    "collapsed": true
   },
   "outputs": [],
   "source": [
    "s2 = {'name':'Good', 'shares':100, 'price': 490.10}"
   ]
  },
  {
   "cell_type": "code",
   "execution_count": 84,
   "metadata": {},
   "outputs": [
    {
     "name": "stdout",
     "output_type": "stream",
     "text": [
      "The slowest run took 20.91 times longer than the fastest. This could mean that an intermediate result is being cached.\n",
      "10000000 loops, best of 3: 103 ns per loop\n"
     ]
    }
   ],
   "source": [
    "%timeit s2['shares']*s2['price']"
   ]
  },
  {
   "cell_type": "markdown",
   "metadata": {},
   "source": [
    "### Use __slots__"
   ]
  },
  {
   "cell_type": "code",
   "execution_count": null,
   "metadata": {
    "collapsed": true
   },
   "outputs": [],
   "source": [
    "# if your program creates a large number of instances of user-defined classes,\n",
    "# you might consider using the __slots__ atribute in a class definition\n",
    "\n",
    "class Stock(object):\n",
    "    __slot__ = ['name','shares','price']\n",
    "    def __init__(self, name, shares, price):\n",
    "        self.name = name \n",
    "        self.shares = shares\n",
    "        self.price = price"
   ]
  },
  {
   "cell_type": "markdown",
   "metadata": {},
   "source": [
    "### Avoid the (.) Operator"
   ]
  },
  {
   "cell_type": "code",
   "execution_count": 91,
   "metadata": {
    "collapsed": true
   },
   "outputs": [],
   "source": [
    "import math"
   ]
  },
  {
   "cell_type": "code",
   "execution_count": 92,
   "metadata": {},
   "outputs": [
    {
     "name": "stdout",
     "output_type": "stream",
     "text": [
      "The slowest run took 20.22 times longer than the fastest. This could mean that an intermediate result is being cached.\n",
      "1000000 loops, best of 3: 94.4 ns per loop\n"
     ]
    }
   ],
   "source": [
    "%timeit math.sqrt(16) \n",
    "# becuase whenever you use the (.) to look up an attribute on an object, it always involves a name lookup.\n",
    "# However, it makes your code easy to read."
   ]
  },
  {
   "cell_type": "code",
   "execution_count": 87,
   "metadata": {
    "collapsed": true
   },
   "outputs": [],
   "source": [
    "from math import sqrt "
   ]
  },
  {
   "cell_type": "code",
   "execution_count": 89,
   "metadata": {},
   "outputs": [
    {
     "name": "stdout",
     "output_type": "stream",
     "text": [
      "The slowest run took 31.62 times longer than the fastest. This could mean that an intermediate result is being cached.\n",
      "10000000 loops, best of 3: 67.9 ns per loop\n"
     ]
    }
   ],
   "source": [
    "%timeit sqrt(16)"
   ]
  },
  {
   "cell_type": "markdown",
   "metadata": {},
   "source": [
    "### Use Exceptions to Handle Uncommon Cases"
   ]
  },
  {
   "cell_type": "code",
   "execution_count": 49,
   "metadata": {
    "collapsed": true
   },
   "outputs": [],
   "source": [
    "line = \"Apple iPhone X: Fix For Cold Weather Problem Coming Soon\""
   ]
  },
  {
   "cell_type": "code",
   "execution_count": 50,
   "metadata": {},
   "outputs": [],
   "source": [
    "# Before \n",
    "def parse_header1(line):\n",
    "    fields = line.split(\":\")\n",
    "    if len(fields) != 2:\n",
    "        raise RuntimeError(\"Malformed header\")\n",
    "    header, value = fields\n",
    "    return header.lower(), value.strip()"
   ]
  },
  {
   "cell_type": "code",
   "execution_count": 51,
   "metadata": {
    "scrolled": true
   },
   "outputs": [
    {
     "name": "stdout",
     "output_type": "stream",
     "text": [
      "The slowest run took 5.29 times longer than the fastest. This could mean that an intermediate result is being cached.\n",
      "100000 loops, best of 3: 946 ns per loop\n"
     ]
    }
   ],
   "source": [
    "%timeit parse_header1(line)"
   ]
  },
  {
   "cell_type": "code",
   "execution_count": 55,
   "metadata": {
    "collapsed": true
   },
   "outputs": [],
   "source": [
    "%lprun -f parse_header1 parse_header1(line)"
   ]
  },
  {
   "cell_type": "markdown",
   "metadata": {},
   "source": [
    "Timer unit: 1e-06 s\n",
    "\n",
    "Total time: 6e-06 s\n",
    "File: <ipython-input-50-382e7ea91819>\n",
    "Function: parse_header1 at line 2\n",
    "\n",
    "Line #      Hits         Time  Per Hit   % Time  Line Contents\n",
    "==============================================================\n",
    "     2                                           def parse_header1(line):\n",
    "     3         1            3      3.0     50.0      fields = line.split(\":\")\n",
    "     4         1            1      1.0     16.7      if len(fields) != 2:\n",
    "     5                                                   raise RuntimeError(\"Malformed header\")\n",
    "     6         1            0      0.0      0.0      header, value = fields\n",
    "     7         1            2      2.0     33.3      return header.lower(), value.strip()"
   ]
  },
  {
   "cell_type": "code",
   "execution_count": 52,
   "metadata": {},
   "outputs": [],
   "source": [
    "# After \n",
    "def parse_header2(line):\n",
    "    fields = line.split(\":\")\n",
    "    try:\n",
    "        header, value = fields\n",
    "        return header.lower(), value.strip()\n",
    "    except ValueError:\n",
    "        raise RuntimeError(\"Malformed header\")"
   ]
  },
  {
   "cell_type": "code",
   "execution_count": 53,
   "metadata": {},
   "outputs": [
    {
     "name": "stdout",
     "output_type": "stream",
     "text": [
      "The slowest run took 4.40 times longer than the fastest. This could mean that an intermediate result is being cached.\n",
      "1000000 loops, best of 3: 922 ns per loop\n"
     ]
    }
   ],
   "source": [
    "%timeit parse_header2(line)"
   ]
  },
  {
   "cell_type": "code",
   "execution_count": 56,
   "metadata": {
    "collapsed": true
   },
   "outputs": [],
   "source": [
    "%lprun -f parse_header2 parse_header2(line)"
   ]
  },
  {
   "cell_type": "markdown",
   "metadata": {},
   "source": [
    "Timer unit: 1e-06 s\n",
    "\n",
    "Total time: 9e-06 s\n",
    "File: <ipython-input-52-9e2dea3949a9>\n",
    "Function: parse_header2 at line 2\n",
    "\n",
    "Line #      Hits         Time  Per Hit   % Time  Line Contents\n",
    "==============================================================\n",
    "     2                                           def parse_header2(line):\n",
    "     3         1            4      4.0     44.4      fields = line.split(\":\")\n",
    "     4         1            1      1.0     11.1      try:\n",
    "     5         1            1      1.0     11.1          header, value = fields\n",
    "     6         1            3      3.0     33.3          return header.lower(), value.strip()\n",
    "     7                                               except ValueError:\n",
    "     8                                                   raise RuntimeError(\"Malformed header\")"
   ]
  },
  {
   "cell_type": "markdown",
   "metadata": {},
   "source": [
    "### Avoid Exceptions for Common Cases"
   ]
  },
  {
   "cell_type": "code",
   "execution_count": null,
   "metadata": {
    "collapsed": true
   },
   "outputs": [],
   "source": [
    "# suppose you had a program that performed a lot of dictionary lookups, \n",
    "# but most of these lookups were keys that didn't exist \n",
    "\n",
    "# Before\n",
    "try:\n",
    "    value = items[key]\n",
    "except KeyError:\n",
    "    value = None "
   ]
  },
  {
   "cell_type": "code",
   "execution_count": null,
   "metadata": {
    "collapsed": true
   },
   "outputs": [],
   "source": [
    "# After: 17 times faster\n",
    "if key in items:\n",
    "    value = items[key]\n",
    "else:\n",
    "    value = None \n",
    "\n",
    "# Besides, this latter approach also runs almost twice as fast as using items.get(key)\n",
    "# Because the in operator is faster to execute than a method call"
   ]
  },
  {
   "cell_type": "markdown",
   "metadata": {},
   "source": [
    "### Embrace Functional Programming and Iteration "
   ]
  },
  {
   "cell_type": "code",
   "execution_count": 104,
   "metadata": {
    "collapsed": true
   },
   "outputs": [],
   "source": [
    "before = []"
   ]
  },
  {
   "cell_type": "code",
   "execution_count": 105,
   "metadata": {},
   "outputs": [
    {
     "name": "stdout",
     "output_type": "stream",
     "text": [
      "The slowest run took 5.23 times longer than the fastest. This could mean that an intermediate result is being cached.\n",
      "100000 loops, best of 3: 1.32 µs per loop\n"
     ]
    }
   ],
   "source": [
    "%timeit for i in range(10): before.append(i)"
   ]
  },
  {
   "cell_type": "code",
   "execution_count": 106,
   "metadata": {},
   "outputs": [
    {
     "name": "stdout",
     "output_type": "stream",
     "text": [
      "100000 loops, best of 3: 1.21 µs per loop\n"
     ]
    }
   ],
   "source": [
    "%timeit after = [i for i in range(10)] # runs fast, makes efficient use of memory"
   ]
  },
  {
   "cell_type": "markdown",
   "metadata": {},
   "source": [
    "### Use Decorators and Metaclasses"
   ]
  },
  {
   "cell_type": "markdown",
   "metadata": {},
   "source": [
    "## Reference\n",
    "\n",
    "- http://mortada.net/easily-profile-python-code-in-jupyter.html\n",
    "- https://stackoverflow.com/questions/22108488/are-list-comprehensions-and-functional-functions-faster-than-for-loops"
   ]
  }
 ],
 "metadata": {
  "kernelspec": {
   "display_name": "Python 2",
   "language": "python",
   "name": "python2"
  },
  "language_info": {
   "codemirror_mode": {
    "name": "ipython",
    "version": 2
   },
   "file_extension": ".py",
   "mimetype": "text/x-python",
   "name": "python",
   "nbconvert_exporter": "python",
   "pygments_lexer": "ipython2",
   "version": "2.7.13"
  }
 },
 "nbformat": 4,
 "nbformat_minor": 2
}
