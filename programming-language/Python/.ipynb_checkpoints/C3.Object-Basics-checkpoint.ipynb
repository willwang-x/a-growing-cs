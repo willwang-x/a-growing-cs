{
 "cells": [
  {
   "cell_type": "markdown",
   "metadata": {},
   "source": [
    "# Chapter 3 Object Basics\n",
    "\n",
    "\n",
    "- **Class and objects**: Declaring classes and instantiating objects\n",
    "- **Constructor methods**: Automating the setup of your objects\n",
    "- **Primitive and class types**: Why type matters\n",
    "- **Inheritance**: Why we need inheritance and how to use it \n",
    "- **Visibility**: Streamlining your object interfaces and protecting your methods and properties from meddling"
   ]
  },
  {
   "cell_type": "markdown",
   "metadata": {},
   "source": [
    "## 3.1 Class and Objects"
   ]
  },
  {
   "cell_type": "markdown",
   "metadata": {},
   "source": [
    "### A  First Class"
   ]
  },
  {
   "cell_type": "code",
   "execution_count": 1,
   "metadata": {},
   "outputs": [
    {
     "data": {
      "text/plain": [
       "\u001b[36mnull\u001b[39m"
      ]
     },
     "execution_count": 1,
     "metadata": {},
     "output_type": "execute_result"
    }
   ],
   "source": [
    "// listing 03.01\n",
    "class ShopProduct\n",
    "{\n",
    "    // class body }"
   ]
  },
  {
   "cell_type": "markdown",
   "metadata": {},
   "source": [
    "### A First Object (or Two)"
   ]
  },
  {
   "cell_type": "code",
   "execution_count": 2,
   "metadata": {},
   "outputs": [
    {
     "data": {
      "text/plain": [
       "\u001b[31;1mPHP Parse error: Syntax error, unexpected T_VARIABLE, expecting T_FUNCTION or T_CONST on line 6\u001b[39;22m"
      ]
     },
     "execution_count": 2,
     "metadata": {},
     "output_type": "execute_result"
    }
   ],
   "source": [
    "// listing 03.02\n",
    "$product1 = new ShopProduct();\n",
    "$prodcut2 = new ShopProduct();"
   ]
  },
  {
   "cell_type": "code",
   "execution_count": 3,
   "metadata": {},
   "outputs": [
    {
     "data": {
      "text/plain": [
       "\u001b[33;1mPHP Notice:  Undefined variable: product1 in /Users/wangzhixiang/Library/jupyter-php/pkgs/vendor/litipk/jupyter-php/src/Actions/ExecuteAction.php(115) : eval()'d code on line 1\u001b[39;22m"
      ]
     },
     "execution_count": 3,
     "metadata": {},
     "output_type": "execute_result"
    }
   ],
   "source": [
    "var_dump($product1);\n",
    "var_dump($prodcut2);"
   ]
  },
  {
   "cell_type": "markdown",
   "metadata": {},
   "source": [
    "### Setting Properties in a class"
   ]
  },
  {
   "cell_type": "code",
   "execution_count": 4,
   "metadata": {
    "collapsed": true
   },
   "outputs": [],
   "source": [
    "// listing 03.04\n",
    "Class ShopProduct \n",
    "{\n",
    "    public $title = \"default product\";\n",
    "    public $producerMainName = \"main name\";\n",
    "    public $producerFirstName = \"first name\";\n",
    "    public $price = 0;\n",
    "}"
   ]
  },
  {
   "cell_type": "code",
   "execution_count": 5,
   "metadata": {},
   "outputs": [
    {
     "data": {
      "text/plain": [
       "default product\n"
      ]
     },
     "execution_count": 5,
     "metadata": {},
     "output_type": "execute_result"
    },
    {
     "data": {
      "text/plain": [
       "\u001b[35m1\u001b[39m"
      ]
     },
     "execution_count": 5,
     "metadata": {},
     "output_type": "execute_result"
    }
   ],
   "source": [
    "$product1 = new ShopProduct();\n",
    "print $product1->title;"
   ]
  },
  {
   "cell_type": "code",
   "execution_count": 6,
   "metadata": {},
   "outputs": [
    {
     "data": {
      "text/plain": [
       "\"\u001b[32mCatch 22\u001b[39m\""
      ]
     },
     "execution_count": 6,
     "metadata": {},
     "output_type": "execute_result"
    }
   ],
   "source": [
    "// listing 03.06\n",
    "$product1 = new ShopProduct();\n",
    "$product2 = new ShopProduct();\n",
    "$product1->title = \"My Antonia\";\n",
    "$product2->title = \"Catch 22\";"
   ]
  },
  {
   "cell_type": "markdown",
   "metadata": {},
   "source": [
    "We could add properties dynamically to an object, like below, but it is a bad practice."
   ]
  },
  {
   "cell_type": "code",
   "execution_count": 7,
   "metadata": {},
   "outputs": [
    {
     "data": {
      "text/plain": [
       "\"\u001b[32mtreehouse\u001b[39m\""
      ]
     },
     "execution_count": 7,
     "metadata": {},
     "output_type": "execute_result"
    }
   ],
   "source": [
    "// listing 03.07 \n",
    "$product1->arbitraryAddition = \"treehouse\";"
   ]
  },
  {
   "cell_type": "code",
   "execution_count": 8,
   "metadata": {},
   "outputs": [
    {
     "data": {
      "text/plain": [
       "\u001b[35m5.99\u001b[39m"
      ]
     },
     "execution_count": 8,
     "metadata": {},
     "output_type": "execute_result"
    }
   ],
   "source": [
    "// listing 03.08\n",
    "$product1 = new ShopProduct();\n",
    "$product1->title = \"My Antonia\";\n",
    "$product1->producerMainName = \"Cather\";\n",
    "$product1->producerFirstName = \"Willa\";\n",
    "$product1->price = 5.99;"
   ]
  },
  {
   "cell_type": "code",
   "execution_count": 9,
   "metadata": {},
   "outputs": [
    {
     "data": {
      "text/plain": [
       "author: WillaWilla\n",
       "\n"
      ]
     },
     "execution_count": 9,
     "metadata": {},
     "output_type": "execute_result"
    },
    {
     "data": {
      "text/plain": [
       "\u001b[35m1\u001b[39m"
      ]
     },
     "execution_count": 9,
     "metadata": {},
     "output_type": "execute_result"
    }
   ],
   "source": [
    "print \"author: {$product1->producerFirstName}\" . \"{$product1->producerFirstName}\\n\";"
   ]
  },
  {
   "cell_type": "markdown",
   "metadata": {},
   "source": [
    "There are a number of problems with this approach to setting property values. Becuase PHP lets you set properties dynamically, you will not get warned if you misspell or forget a property name. For example, assume I want to type this line:\n",
    "\n",
    "$product1->producerMainName = \"Cather\";\n",
    "\n",
    "    Unfortunately, I mistakenly type it like this:\n",
    "\n",
    "$product1->producerSecondName = \"Cather\";"
   ]
  },
  {
   "cell_type": "markdown",
   "metadata": {},
   "source": [
    "### Working with Methods (handle drudgery)"
   ]
  },
  {
   "cell_type": "code",
   "execution_count": null,
   "metadata": {
    "collapsed": true
   },
   "outputs": [],
   "source": [
    "public function myMethod($argument, $another)\n",
    "{\n",
    "    //....\n",
    "}"
   ]
  },
  {
   "cell_type": "markdown",
   "metadata": {},
   "source": [
    "Unlike functions, methods must be declared in the body of a class."
   ]
  },
  {
   "cell_type": "code",
   "execution_count": 15,
   "metadata": {},
   "outputs": [],
   "source": [
    "// list 03.10\n",
    "Class ShopProduct2 \n",
    "{\n",
    "    public $title = \"default product\";\n",
    "    public $producerMainName = \"main name\";\n",
    "    public $producerFirstName = \"first name\";\n",
    "    public $price = 0;\n",
    "    \n",
    "    public function getProducer()\n",
    "    {\n",
    "        return $this->producerFirstName . \" \" . $this->producerMainName;\n",
    "    }\n",
    "}"
   ]
  },
  {
   "cell_type": "markdown",
   "metadata": {},
   "source": [
    "In mos "
   ]
  },
  {
   "cell_type": "code",
   "execution_count": 17,
   "metadata": {},
   "outputs": [
    {
     "data": {
      "text/plain": [
       "author: Willa Cather\n",
       "\n"
      ]
     },
     "execution_count": 17,
     "metadata": {},
     "output_type": "execute_result"
    },
    {
     "data": {
      "text/plain": [
       "\u001b[35m1\u001b[39m"
      ]
     },
     "execution_count": 17,
     "metadata": {},
     "output_type": "execute_result"
    }
   ],
   "source": [
    "// list 03.11\n",
    "\n",
    "$product1 = new ShopProduct2();\n",
    "$product1->title = \"My Antonia\";\n",
    "$product1->producerMainName = \"Cather\";\n",
    "$product1->producerFirstName = \"Willa\";\n",
    "$product1->price = 5.99;\n",
    "\n",
    "print \"author: {$product1->getProducer()}\\n\""
   ]
  },
  {
   "cell_type": "code",
   "execution_count": null,
   "metadata": {
    "collapsed": true
   },
   "outputs": [],
   "source": []
  }
 ],
 "metadata": {
  "kernelspec": {
   "display_name": "PHP",
   "language": "php",
   "name": "jupyter-php"
  },
  "language_info": {
   "file_extension": ".php",
   "mimetype": "text/x-php",
   "name": "PHP",
   "pygments_lexer": "PHP",
   "version": "7.0.25"
  }
 },
 "nbformat": 4,
 "nbformat_minor": 2
}
