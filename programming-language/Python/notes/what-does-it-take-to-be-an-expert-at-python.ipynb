{
 "cells": [
  {
   "cell_type": "markdown",
   "metadata": {},
   "source": [
    "# What Does It Take to Be An Expert At Python\n",
    "\n",
    "\n",
    "Notebook based off James Powell's talk at PyData 2017'\n",
    "\n",
    "https://www.youtube.com/watch?v=7lmCu8wz8ro\n",
    "\n",
    "If you want to become an expert in Python, you should definitely watch this PyData talk from James Powell.\n",
    "\n",
    "Video Index\n",
    "- metaclasses: 18:50\n",
    "- metaclasses(explained): 40:40\n",
    "- decorator: 45:20\n",
    "- generator: 1:04:30\n",
    "- context manager: 1:22:37\n",
    "- summary: 1:40:00\n",
    "\n",
    "**Definitions** Python is a language orientated around protocols - Some behavior or syntax or bytecode or some top level function and there is a way to tell python how to implement that on an arbitrary object via underscore methods. The exact correspondance is usually guessable, but if you can't guess it you can it... google python data model\n",
    "\n",
    "**Metaclass** Mechanism: Some hook into the class construction process. Questions: Do you have these methods implemented. Meaning: Library code & User code? How do you enforce a constraint?\n",
    "\n",
    "**Decorator** Hooks into idea that everything creates a structure at run time. Wrap sets of functions with a before and after behavior.\n",
    "\n",
    "**Generators** Take a single computation that would otherwise run eagerly from the injection of its parameters to the final computation and interleaving with other code by adding yield points where you can yield the intermediate result values or one small piece of the computation and also yield back to the caller. Think of a generator of a way to take one long piece of computation and break it up into small parts.\n",
    "\n",
    "**Context managers** Two structures that allow you to tie two actions together. A setup action and a teardown action and make sure they always happen in concordance with each other.\n",
    "\n",
    "----"
   ]
  },
  {
   "cell_type": "markdown",
   "metadata": {},
   "source": [
    "## Reference\n",
    "\n",
    "https://github.com/austin-taylor/code-vault/blob/master/python_expert_notebook.ipynb"
   ]
  }
 ],
 "metadata": {
  "kernelspec": {
   "display_name": "Python 3",
   "language": "python",
   "name": "python3"
  },
  "language_info": {
   "codemirror_mode": {
    "name": "ipython",
    "version": 3
   },
   "file_extension": ".py",
   "mimetype": "text/x-python",
   "name": "python",
   "nbconvert_exporter": "python",
   "pygments_lexer": "ipython3",
   "version": "3.6.5"
  }
 },
 "nbformat": 4,
 "nbformat_minor": 2
}
